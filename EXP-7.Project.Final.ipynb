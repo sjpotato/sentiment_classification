{
 "cells": [
  {
   "cell_type": "markdown",
   "id": "altered-cookbook",
   "metadata": {},
   "source": [
    "# 7-11. 프로젝트 : 네이버 영화리뷰 감성분석 도전하기"
   ]
  },
  {
   "cell_type": "markdown",
   "id": "comparable-whale",
   "metadata": {},
   "source": [
    "이전 스텝까지는 영문 텍스트의 감정분석을 진행해 보았습니다. 그렇다면 이번에는 한국어 텍스트의 감정분석을 진행해 보면 어떨까요? 오늘 활용할 데이터셋은 네이버 영화의 댓글을 모아 구성된 Naver sentiment movie corpus입니다.\n",
    "\n",
    "데이터 다운로드 없이 Cloud shell에서 해당 파일의 심볼릭 링크를 연결 해 주세요\n",
    "\n",
    "$ ln -s ~/data/*.txt ~/aiffel/sentiment_classification/data\n",
    "프로젝트 진행 순서는 다음과 같습니다."
   ]
  },
  {
   "cell_type": "markdown",
   "id": "cubic-jacob",
   "metadata": {},
   "source": [
    "## 1) 데이터 준비와 확인"
   ]
  },
  {
   "cell_type": "code",
   "execution_count": 1,
   "id": "surrounded-treasure",
   "metadata": {
    "scrolled": true
   },
   "outputs": [
    {
     "data": {
      "text/html": [
       "<div>\n",
       "<style scoped>\n",
       "    .dataframe tbody tr th:only-of-type {\n",
       "        vertical-align: middle;\n",
       "    }\n",
       "\n",
       "    .dataframe tbody tr th {\n",
       "        vertical-align: top;\n",
       "    }\n",
       "\n",
       "    .dataframe thead th {\n",
       "        text-align: right;\n",
       "    }\n",
       "</style>\n",
       "<table border=\"1\" class=\"dataframe\">\n",
       "  <thead>\n",
       "    <tr style=\"text-align: right;\">\n",
       "      <th></th>\n",
       "      <th>id</th>\n",
       "      <th>document</th>\n",
       "      <th>label</th>\n",
       "    </tr>\n",
       "  </thead>\n",
       "  <tbody>\n",
       "    <tr>\n",
       "      <th>0</th>\n",
       "      <td>9976970</td>\n",
       "      <td>아 더빙.. 진짜 짜증나네요 목소리</td>\n",
       "      <td>0</td>\n",
       "    </tr>\n",
       "    <tr>\n",
       "      <th>1</th>\n",
       "      <td>3819312</td>\n",
       "      <td>흠...포스터보고 초딩영화줄....오버연기조차 가볍지 않구나</td>\n",
       "      <td>1</td>\n",
       "    </tr>\n",
       "    <tr>\n",
       "      <th>2</th>\n",
       "      <td>10265843</td>\n",
       "      <td>너무재밓었다그래서보는것을추천한다</td>\n",
       "      <td>0</td>\n",
       "    </tr>\n",
       "    <tr>\n",
       "      <th>3</th>\n",
       "      <td>9045019</td>\n",
       "      <td>교도소 이야기구먼 ..솔직히 재미는 없다..평점 조정</td>\n",
       "      <td>0</td>\n",
       "    </tr>\n",
       "    <tr>\n",
       "      <th>4</th>\n",
       "      <td>6483659</td>\n",
       "      <td>사이몬페그의 익살스런 연기가 돋보였던 영화!스파이더맨에서 늙어보이기만 했던 커스틴 ...</td>\n",
       "      <td>1</td>\n",
       "    </tr>\n",
       "  </tbody>\n",
       "</table>\n",
       "</div>"
      ],
      "text/plain": [
       "         id                                           document  label\n",
       "0   9976970                                아 더빙.. 진짜 짜증나네요 목소리      0\n",
       "1   3819312                  흠...포스터보고 초딩영화줄....오버연기조차 가볍지 않구나      1\n",
       "2  10265843                                  너무재밓었다그래서보는것을추천한다      0\n",
       "3   9045019                      교도소 이야기구먼 ..솔직히 재미는 없다..평점 조정      0\n",
       "4   6483659  사이몬페그의 익살스런 연기가 돋보였던 영화!스파이더맨에서 늙어보이기만 했던 커스틴 ...      1"
      ]
     },
     "execution_count": 1,
     "metadata": {},
     "output_type": "execute_result"
    }
   ],
   "source": [
    "import pandas as pd\n",
    "import urllib.request\n",
    "%matplotlib inline\n",
    "import matplotlib.pyplot as plt\n",
    "import re\n",
    "from konlpy.tag import Okt\n",
    "from tensorflow import keras\n",
    "from tensorflow.keras.preprocessing.text import Tokenizer\n",
    "import numpy as np\n",
    "from tensorflow.keras.preprocessing.sequence import pad_sequences\n",
    "from collections import Counter\n",
    "import os\n",
    "from konlpy.tag import Mecab\n",
    "import gensim\n",
    "from gensim.models import KeyedVectors\n",
    "from gensim.models import Word2Vec\n",
    "from gensim.models.keyedvectors import Word2VecKeyedVectors\n",
    "from tensorflow.keras.initializers import Constant\n",
    "\n",
    "train_data = pd.read_table('~/aiffel/sentiment_classification/data/ratings_train.txt')\n",
    "test_data = pd.read_table('~/aiffel/sentiment_classification/data/ratings_test.txt')\n",
    "\n",
    "train_data.head()"
   ]
  },
  {
   "cell_type": "markdown",
   "id": "twelve-issue",
   "metadata": {},
   "source": [
    "## 2) 데이터로더 구성\n",
    "\n",
    "실습 때 다루었던 IMDB 데이터셋은 텍스트를 가공하여 imdb.data_loader() 메소드를 호출하면 숫자 인덱스로 변환된 텍스트와 word_to_index 딕셔너리까지 친절하게 제공합니다. 그러나 이번에 다루게 될 nsmc 데이터셋은 전혀 가공되지 않은 텍스트 파일로 이루어져 있습니다. 이것을 읽어서 imdb.data_loader()와 동일하게 동작하는 자신만의 data_loader를 만들어 보는 것으로 시작합니다. data_loader 안에서는 다음을 수행해야 합니다.\n",
    "\n",
    "* 데이터의 중복 제거\n",
    "* NaN 결측치 제거\n",
    "* 한국어 토크나이저로 토큰화\n",
    "* 불용어(Stopwords) 제거\n",
    "* 사전word_to_index 구성\n",
    "* 텍스트 스트링을 사전 인덱스 스트링으로 변환\n",
    "* X_train, y_train, X_test, y_test, word_to_index 리턴"
   ]
  },
  {
   "cell_type": "code",
   "execution_count": 2,
   "id": "general-boost",
   "metadata": {},
   "outputs": [],
   "source": [
    "tokenizer = Mecab()\n",
    "stopwords = ['의','가','이','은','들','는','좀','잘','걍','과','도','를','으로','자','에','와','한','하다']\n",
    "\n",
    "def load_data(train_data, test_data, num_words=10000):\n",
    "    train_data.drop_duplicates(subset=['document'], inplace=True)\n",
    "    train_data = train_data.dropna(how = 'any') \n",
    "    test_data.drop_duplicates(subset=['document'], inplace=True)\n",
    "    test_data = test_data.dropna(how = 'any') \n",
    "\n",
    "    X_train = []\n",
    "    for sentence in train_data['document']:\n",
    "        temp_X = tokenizer.morphs(sentence) # 토큰화\n",
    "        temp_X = [word for word in temp_X if not word in stopwords] # 불용어 제거\n",
    "        X_train.append(temp_X)\n",
    "\n",
    "    X_test = []\n",
    "    for sentence in test_data['document']:\n",
    "        temp_X = tokenizer.morphs(sentence) # 토큰화\n",
    "        temp_X = [word for word in temp_X if not word in stopwords] # 불용어 제거\n",
    "        X_test.append(temp_X)\n",
    "\n",
    "    words = np.concatenate(X_train).tolist()\n",
    "    counter = Counter(words)\n",
    "    counter = counter.most_common(10000-4)\n",
    "    vocab = ['<PAD>', '<BOS>', '<UNK>', '<UNUSED>'] + [key for key, _ in counter]\n",
    "    word_to_index = {word:index for index, word in enumerate(vocab)}\n",
    "\n",
    "    def wordlist_to_indexlist(wordlist):\n",
    "        return [word_to_index[word] if word in word_to_index else word_to_index['<UNK>'] for word in wordlist]\n",
    "\n",
    "    X_train = list(map(wordlist_to_indexlist, X_train))\n",
    "    X_test = list(map(wordlist_to_indexlist, X_test))\n",
    "\n",
    "    return X_train, np.array(list(train_data['label'])), X_test, np.array(list(test_data['label'])), word_to_index\n",
    "\n",
    "X_train, y_train, X_test, y_test, word_to_index = load_data(train_data, test_data)\n",
    "index_to_word = {index:word for word, index in word_to_index.items()}"
   ]
  },
  {
   "cell_type": "code",
   "execution_count": 3,
   "id": "animal-lobby",
   "metadata": {},
   "outputs": [],
   "source": [
    "# 문장 관련 항수 정의\n",
    "def get_encoded_sentence(sentence, word_to_index):\n",
    "    return [word_to_index['<BOS>']]+[word_to_index[word] if word in word_to_index else word_to_index['<UNK>'] for word in sentence.split()]\n",
    "\n",
    "def get_encoded_sentences(sentences, word_to_index):\n",
    "    return [get_encoded_sentence(sentence, word_to_index) for sentence in sentences]\n",
    "\n",
    "def get_decoded_sentence(encoded_sentence, index_to_word):\n",
    "    return ' '.join(index_to_word[index] if index in index_to_word else '<UNK>' for index in encoded_sentence[1:])\n",
    "\n",
    "def get_decoded_sentences(encoded_sentences, index_to_word):\n",
    "    return [get_decoded_sentence(encoded_sentence, index_to_word) for encoded_sentence in encoded_sentences]"
   ]
  },
  {
   "cell_type": "code",
   "execution_count": 4,
   "id": "statewide-accommodation",
   "metadata": {},
   "outputs": [
    {
     "name": "stdout",
     "output_type": "stream",
     "text": [
      "[32, 74, 919, 4, 4, 39, 228, 20, 33, 748]\n",
      "라벨:  0\n",
      "1번째 리뷰 문장 :  [32, 74, 919, 4, 4, 39, 228, 20, 33, 748]\n",
      "1번째 리뷰 문장 길이:  10\n",
      "2번째 리뷰 문장 길이:  17\n",
      "index_to_word size :  10000\n",
      "word_to_index size :  10000\n"
     ]
    }
   ],
   "source": [
    "print(X_train[0])  # 1번째 리뷰데이터\n",
    "print('라벨: ', y_train[0])  # 1번째 리뷰데이터의 라벨\n",
    "print('1번째 리뷰 문장 : ', X_train[0])\n",
    "print('1번째 리뷰 문장 길이: ', len(X_train[0]))\n",
    "print('2번째 리뷰 문장 길이: ', len(X_train[1]))\n",
    "print('index_to_word size : ' ,len(index_to_word))\n",
    "print('word_to_index size : ' ,len(word_to_index))"
   ]
  },
  {
   "cell_type": "markdown",
   "id": "satisfactory-grave",
   "metadata": {},
   "source": [
    "## 3) 모델구성을 위한 데이터 분석 및 가공\n",
    "<hr>\n",
    "\n",
    "* 데이터셋 내 문장 길이 분포\n",
    "\n",
    "* 적절한 최대 문장 길이 지정\n",
    "\n",
    "* keras.preprocessing.sequence.pad_sequences 을 활용한 패딩 추가"
   ]
  },
  {
   "cell_type": "code",
   "execution_count": 5,
   "id": "honey-lexington",
   "metadata": {
    "scrolled": true
   },
   "outputs": [
    {
     "name": "stdout",
     "output_type": "stream",
     "text": [
      "문장길이 평균 :  15.96940191154864\n",
      "문장길이 최대 :  116\n",
      "문장길이 표준편차 :  12.843571191092\n",
      "pad_sequences maxlen :  41\n",
      "전체 문장의 0.9342988343341575%가 maxlen 설정값 이내에 포함됩니다. \n"
     ]
    }
   ],
   "source": [
    "# 데이터셋 내 문장 길이 분포\n",
    "total_data_text = list(X_train) + list(X_test)\n",
    "\n",
    "num_tokens = [len(tokens) for tokens in total_data_text]\n",
    "num_tokens = np.array(num_tokens)\n",
    "\n",
    "print('문장길이 평균 : ', np.mean(num_tokens))\n",
    "print('문장길이 최대 : ', np.max(num_tokens))\n",
    "print('문장길이 표준편차 : ', np.std(num_tokens))\n",
    "\n",
    "# 적절한 최대 문장 길이 지정\n",
    "max_tokens = np.mean(num_tokens) + 2 * np.std(num_tokens)\n",
    "maxlen = int(max_tokens) # 최대 길이\n",
    "print('pad_sequences maxlen : ', maxlen)\n",
    "print('전체 문장의 {}%가 maxlen 설정값 이내에 포함됩니다. '.format(np.sum(num_tokens < max_tokens) / len(num_tokens)))\n",
    "\n",
    "# 패딩 추가\n",
    "X_train = keras.preprocessing.sequence.pad_sequences(X_train, value=word_to_index[\"<PAD>\"], padding='pre', maxlen=maxlen)\n",
    "X_test = keras.preprocessing.sequence.pad_sequences(X_test, value=word_to_index[\"<PAD>\"], padding='pre', maxlen=maxlen)"
   ]
  },
  {
   "cell_type": "markdown",
   "id": "general-positive",
   "metadata": {},
   "source": [
    "## 4) 모델구성 및 validation set 구성"
   ]
  },
  {
   "cell_type": "markdown",
   "id": "directed-glasgow",
   "metadata": {},
   "source": [
    "### 모델구성"
   ]
  },
  {
   "cell_type": "code",
   "execution_count": 6,
   "id": "collected-respondent",
   "metadata": {},
   "outputs": [
    {
     "name": "stdout",
     "output_type": "stream",
     "text": [
      "Model: \"sequential\"\n",
      "_________________________________________________________________\n",
      "Layer (type)                 Output Shape              Param #   \n",
      "=================================================================\n",
      "embedding (Embedding)        (None, None, 200)         2000000   \n",
      "_________________________________________________________________\n",
      "lstm (LSTM)                  (None, 8)                 6688      \n",
      "_________________________________________________________________\n",
      "dense (Dense)                (None, 8)                 72        \n",
      "_________________________________________________________________\n",
      "dense_1 (Dense)              (None, 1)                 9         \n",
      "=================================================================\n",
      "Total params: 2,006,769\n",
      "Trainable params: 2,006,769\n",
      "Non-trainable params: 0\n",
      "_________________________________________________________________\n",
      "Model: \"sequential_1\"\n",
      "_________________________________________________________________\n",
      "Layer (type)                 Output Shape              Param #   \n",
      "=================================================================\n",
      "embedding_1 (Embedding)      (None, None, 200)         2000000   \n",
      "_________________________________________________________________\n",
      "conv1d (Conv1D)              (None, None, 16)          22416     \n",
      "_________________________________________________________________\n",
      "max_pooling1d (MaxPooling1D) (None, None, 16)          0         \n",
      "_________________________________________________________________\n",
      "conv1d_1 (Conv1D)            (None, None, 16)          1808      \n",
      "_________________________________________________________________\n",
      "global_max_pooling1d (Global (None, 16)                0         \n",
      "_________________________________________________________________\n",
      "dense_2 (Dense)              (None, 16)                272       \n",
      "_________________________________________________________________\n",
      "dense_3 (Dense)              (None, 1)                 17        \n",
      "=================================================================\n",
      "Total params: 2,024,513\n",
      "Trainable params: 2,024,513\n",
      "Non-trainable params: 0\n",
      "_________________________________________________________________\n",
      "Model: \"sequential_2\"\n",
      "_________________________________________________________________\n",
      "Layer (type)                 Output Shape              Param #   \n",
      "=================================================================\n",
      "embedding_2 (Embedding)      (None, None, 200)         2000000   \n",
      "_________________________________________________________________\n",
      "global_average_pooling1d (Gl (None, 200)               0         \n",
      "_________________________________________________________________\n",
      "dense_4 (Dense)              (None, 8)                 1608      \n",
      "_________________________________________________________________\n",
      "dense_5 (Dense)              (None, 1)                 9         \n",
      "=================================================================\n",
      "Total params: 2,001,617\n",
      "Trainable params: 2,001,617\n",
      "Non-trainable params: 0\n",
      "_________________________________________________________________\n"
     ]
    }
   ],
   "source": [
    "vocab_size = 10000\n",
    "word_vector_dim = 200\n",
    "\n",
    "# LSTM\n",
    "lstm = keras.Sequential()\n",
    "lstm.add(keras.layers.Embedding(vocab_size, word_vector_dim, input_shape=(None,)))\n",
    "lstm.add(keras.layers.LSTM(8))\n",
    "lstm.add(keras.layers.Dense(8, activation='relu'))\n",
    "lstm.add(keras.layers.Dense(1, activation='sigmoid'))\n",
    "\n",
    "lstm.summary()\n",
    "\n",
    "# 1-D CNN\n",
    "cnn = keras.Sequential()\n",
    "cnn.add(keras.layers.Embedding(vocab_size, word_vector_dim, input_shape=(None,))) \n",
    "cnn.add(keras.layers.Conv1D(16, 7, activation='relu'))\n",
    "cnn.add(keras.layers.MaxPooling1D(5))\n",
    "cnn.add(keras.layers.Conv1D(16, 7, activation='relu'))\n",
    "cnn.add(keras.layers.GlobalMaxPooling1D())\n",
    "cnn.add(keras.layers.Dense(16, activation='relu'))\n",
    "cnn.add(keras.layers.Dense(1, activation='sigmoid'))\n",
    "\n",
    "cnn.summary()\n",
    "\n",
    "# one GlobalAveragePooling layer\n",
    "simple = keras.Sequential()\n",
    "simple.add(keras.layers.Embedding(vocab_size, word_vector_dim, input_shape=(None,)))\n",
    "simple.add(keras.layers.GlobalAveragePooling1D())\n",
    "simple.add(keras.layers.Dense(8, activation='relu'))\n",
    "simple.add(keras.layers.Dense(1, activation='sigmoid'))\n",
    "\n",
    "simple.summary()"
   ]
  },
  {
   "cell_type": "markdown",
   "id": "soviet-execution",
   "metadata": {},
   "source": [
    "### validation set 구성"
   ]
  },
  {
   "cell_type": "code",
   "execution_count": 7,
   "id": "color-discharge",
   "metadata": {},
   "outputs": [
    {
     "name": "stdout",
     "output_type": "stream",
     "text": [
      "(126182, 41)\n",
      "(126182,)\n"
     ]
    }
   ],
   "source": [
    "# 학습 데이터 중 20000개를 validation set으로 사용\n",
    "X_val = X_train[:20000]   \n",
    "y_val = y_train[:20000]\n",
    "\n",
    "partial_X_train = X_train[20000:]  \n",
    "partial_y_train = y_train[20000:]\n",
    "\n",
    "print(partial_X_train.shape)\n",
    "print(partial_y_train.shape)"
   ]
  },
  {
   "cell_type": "markdown",
   "id": "immune-twenty",
   "metadata": {},
   "source": [
    "## 5) 모델 훈련 개시"
   ]
  },
  {
   "cell_type": "code",
   "execution_count": 8,
   "id": "entitled-basic",
   "metadata": {
    "scrolled": true
   },
   "outputs": [
    {
     "name": "stdout",
     "output_type": "stream",
     "text": [
      "Epoch 1/5\n",
      "247/247 [==============================] - 10s 29ms/step - loss: 0.5573 - accuracy: 0.7369 - val_loss: 0.3505 - val_accuracy: 0.8490\n",
      "Epoch 2/5\n",
      "247/247 [==============================] - 6s 26ms/step - loss: 0.3221 - accuracy: 0.8656 - val_loss: 0.3375 - val_accuracy: 0.8556\n",
      "Epoch 3/5\n",
      "247/247 [==============================] - 6s 26ms/step - loss: 0.2858 - accuracy: 0.8822 - val_loss: 0.3387 - val_accuracy: 0.8562\n",
      "Epoch 4/5\n",
      "247/247 [==============================] - 6s 25ms/step - loss: 0.2624 - accuracy: 0.8937 - val_loss: 0.3457 - val_accuracy: 0.8564\n",
      "Epoch 5/5\n",
      "247/247 [==============================] - 6s 25ms/step - loss: 0.2426 - accuracy: 0.9021 - val_loss: 0.3564 - val_accuracy: 0.8539\n",
      "Epoch 1/5\n",
      "247/247 [==============================] - 11s 35ms/step - loss: 0.5424 - accuracy: 0.7047 - val_loss: 0.3419 - val_accuracy: 0.8508\n",
      "Epoch 2/5\n",
      "247/247 [==============================] - 6s 25ms/step - loss: 0.3001 - accuracy: 0.8741 - val_loss: 0.3276 - val_accuracy: 0.8576\n",
      "Epoch 3/5\n",
      "247/247 [==============================] - 6s 25ms/step - loss: 0.2348 - accuracy: 0.9078 - val_loss: 0.3396 - val_accuracy: 0.8564\n",
      "Epoch 4/5\n",
      "247/247 [==============================] - 6s 25ms/step - loss: 0.1605 - accuracy: 0.9433 - val_loss: 0.3932 - val_accuracy: 0.8503\n",
      "Epoch 5/5\n",
      "247/247 [==============================] - 6s 25ms/step - loss: 0.0995 - accuracy: 0.9673 - val_loss: 0.4768 - val_accuracy: 0.8451\n",
      "Epoch 1/5\n",
      "247/247 [==============================] - 5s 20ms/step - loss: 0.6169 - accuracy: 0.6909 - val_loss: 0.3833 - val_accuracy: 0.8393\n",
      "Epoch 2/5\n",
      "247/247 [==============================] - 5s 19ms/step - loss: 0.3635 - accuracy: 0.8470 - val_loss: 0.3522 - val_accuracy: 0.8481\n",
      "Epoch 3/5\n",
      "247/247 [==============================] - 5s 19ms/step - loss: 0.3301 - accuracy: 0.8609 - val_loss: 0.3516 - val_accuracy: 0.8478\n",
      "Epoch 4/5\n",
      "247/247 [==============================] - 5s 19ms/step - loss: 0.3207 - accuracy: 0.8656 - val_loss: 0.3505 - val_accuracy: 0.8472\n",
      "Epoch 5/5\n",
      "247/247 [==============================] - 5s 19ms/step - loss: 0.3092 - accuracy: 0.8702 - val_loss: 0.3527 - val_accuracy: 0.8453\n"
     ]
    }
   ],
   "source": [
    "epochs = 5\n",
    "\n",
    "# lstm\n",
    "lstm.compile(optimizer='adam', loss='binary_crossentropy', metrics=['accuracy'])\n",
    "history_lstm = lstm.fit(partial_X_train, partial_y_train, epochs=epochs, batch_size=512, validation_data=(X_val, y_val), verbose=1)\n",
    "\n",
    "# CNN\n",
    "cnn.compile(optimizer='adam', loss='binary_crossentropy', metrics=['accuracy'])\n",
    "history_cnn = cnn.fit(partial_X_train, partial_y_train, epochs=epochs, batch_size=512, validation_data=(X_val, y_val), verbose=1)\n",
    "\n",
    "# simple\n",
    "simple.compile(optimizer='adam', loss='binary_crossentropy', metrics=['accuracy'])\n",
    "history_simple = simple.fit(partial_X_train, partial_y_train, epochs=epochs, batch_size=512, validation_data=(X_val, y_val), verbose=1)"
   ]
  },
  {
   "cell_type": "markdown",
   "id": "korean-blair",
   "metadata": {},
   "source": [
    "## 6) Loss, Accuracy 그래프 시각화"
   ]
  },
  {
   "cell_type": "code",
   "execution_count": 9,
   "id": "virgin-strap",
   "metadata": {},
   "outputs": [
    {
     "name": "stdout",
     "output_type": "stream",
     "text": [
      "LSTM\n",
      "1537/1537 - 4s - loss: 0.3659 - accuracy: 0.8489\n",
      "[0.3658998906612396, 0.8488720059394836]\n",
      "-------------------------------------------------------------------------\n",
      "CNN\n",
      "1537/1537 - 3s - loss: 0.4943 - accuracy: 0.8398\n",
      "[0.49432095885276794, 0.8397583365440369]\n",
      "-------------------------------------------------------------------------\n",
      "GlobalAveragePooling1D layer\n",
      "1537/1537 - 2s - loss: 0.3623 - accuracy: 0.8441\n",
      "[0.3622611165046692, 0.8441320657730103]\n"
     ]
    }
   ],
   "source": [
    "# LSTM\n",
    "print(\"LSTM\")\n",
    "results_lstm = lstm.evaluate(X_test, y_test, verbose=2)\n",
    "print(results_lstm)\n",
    "print(\"-------------------------------------------------------------------------\")\n",
    "\n",
    "# CNN\n",
    "print(\"CNN\")\n",
    "results_cnn = cnn.evaluate(X_test, y_test, verbose=2)\n",
    "print(results_cnn)\n",
    "print(\"-------------------------------------------------------------------------\")\n",
    "\n",
    "# GlobalAveragePooling1D\n",
    "print(\"GlobalAveragePooling1D layer\")\n",
    "results_simple = simple.evaluate(X_test, y_test, verbose=2)\n",
    "print(results_simple)"
   ]
  },
  {
   "cell_type": "code",
   "execution_count": 10,
   "id": "viral-tutorial",
   "metadata": {},
   "outputs": [
    {
     "data": {
      "image/png": "[encoded data removed]",
      "text/plain": [
       "<Figure size 432x288 with 1 Axes>"
      ]
     },
     "metadata": {
      "needs_background": "light"
     },
     "output_type": "display_data"
    },
    {
     "data": {
      "image/png": "[encoded data removed]",
      "text/plain": [
       "<Figure size 432x288 with 1 Axes>"
      ]
     },
     "metadata": {
      "needs_background": "light"
     },
     "output_type": "display_data"
    }
   ],
   "source": [
    "history_dict = history_lstm.history\n",
    "\n",
    "acc = history_dict['accuracy']\n",
    "val_acc = history_dict['val_accuracy']\n",
    "loss = history_dict['loss']\n",
    "val_loss = history_dict['val_loss']\n",
    "\n",
    "epochs = range(1, len(acc) + 1)\n",
    "\n",
    "plt.plot(epochs, loss, 'bo', label='Training loss')\n",
    "plt.plot(epochs, val_loss, 'b', label='Validation loss')\n",
    "\n",
    "plt.title('Training and validation loss')\n",
    "plt.xlabel('Epochs')\n",
    "plt.ylabel('Loss')\n",
    "plt.legend()\n",
    "\n",
    "plt.show()\n",
    "\n",
    "# 그림을 초기화\n",
    "plt.clf()\n",
    "\n",
    "plt.plot(epochs, acc, 'bo', label='Training acc')\n",
    "plt.plot(epochs, val_acc, 'b', label='Validation acc')\n",
    "plt.title('Training and validation accuracy')\n",
    "plt.xlabel('Epochs')\n",
    "plt.ylabel('Accuracy')\n",
    "plt.legend()\n",
    "\n",
    "plt.show()"
   ]
  },
  {
   "cell_type": "code",
   "execution_count": 11,
   "id": "absent-scotland",
   "metadata": {},
   "outputs": [
    {
     "data": {
      "image/png": "[encoded data removed]",
      "text/plain": [
       "<Figure size 432x288 with 1 Axes>"
      ]
     },
     "metadata": {
      "needs_background": "light"
     },
     "output_type": "display_data"
    },
    {
     "data": {
      "image/png": "[encoded data removed]",
      "text/plain": [
       "<Figure size 432x288 with 1 Axes>"
      ]
     },
     "metadata": {
      "needs_background": "light"
     },
     "output_type": "display_data"
    }
   ],
   "source": [
    "history_dict = history_cnn.history\n",
    "\n",
    "acc = history_dict['accuracy']\n",
    "val_acc = history_dict['val_accuracy']\n",
    "loss = history_dict['loss']\n",
    "val_loss = history_dict['val_loss']\n",
    "\n",
    "epochs = range(1, len(acc) + 1)\n",
    "\n",
    "plt.plot(epochs, loss, 'bo', label='Training loss')\n",
    "plt.plot(epochs, val_loss, 'b', label='Validation loss')\n",
    "\n",
    "plt.title('Training and validation loss')\n",
    "plt.xlabel('Epochs')\n",
    "plt.ylabel('Loss')\n",
    "plt.legend()\n",
    "\n",
    "plt.show()\n",
    "\n",
    "plt.clf()\n",
    "\n",
    "plt.plot(epochs, acc, 'bo', label='Training acc')\n",
    "plt.plot(epochs, val_acc, 'b', label='Validation acc')\n",
    "plt.title('Training and validation accuracy')\n",
    "plt.xlabel('Epochs')\n",
    "plt.ylabel('Accuracy')\n",
    "plt.legend()\n",
    "\n",
    "plt.show()"
   ]
  },
  {
   "cell_type": "code",
   "execution_count": 12,
   "id": "brilliant-vancouver",
   "metadata": {
    "scrolled": true
   },
   "outputs": [
    {
     "data": {
      "image/png": "[encoded data removed]",
      "text/plain": [
       "<Figure size 432x288 with 1 Axes>"
      ]
     },
     "metadata": {
      "needs_background": "light"
     },
     "output_type": "display_data"
    },
    {
     "data": {
      "image/png": "[encoded data removed]",
      "text/plain": [
       "<Figure size 432x288 with 1 Axes>"
      ]
     },
     "metadata": {
      "needs_background": "light"
     },
     "output_type": "display_data"
    }
   ],
   "source": [
    "history_dict = history_simple.history\n",
    "\n",
    "acc = history_dict['accuracy']\n",
    "val_acc = history_dict['val_accuracy']\n",
    "loss = history_dict['loss']\n",
    "val_loss = history_dict['val_loss']\n",
    "\n",
    "epochs = range(1, len(acc) + 1)\n",
    "\n",
    "plt.plot(epochs, loss, 'bo', label='Training loss')\n",
    "plt.plot(epochs, val_loss, 'b', label='Validation loss')\n",
    "\n",
    "plt.title('Training and validation loss')\n",
    "plt.xlabel('Epochs')\n",
    "plt.ylabel('Loss')\n",
    "plt.legend()\n",
    "\n",
    "plt.show()\n",
    "\n",
    "plt.clf()\n",
    "\n",
    "plt.plot(epochs, acc, 'bo', label='Training acc')\n",
    "plt.plot(epochs, val_acc, 'b', label='Validation acc')\n",
    "plt.title('Training and validation accuracy')\n",
    "plt.xlabel('Epochs')\n",
    "plt.ylabel('Accuracy')\n",
    "plt.legend()\n",
    "\n",
    "plt.show()"
   ]
  },
  {
   "cell_type": "markdown",
   "id": "closed-danish",
   "metadata": {},
   "source": [
    "## 7) 학습된 Embedding 레이어 분석"
   ]
  },
  {
   "cell_type": "code",
   "execution_count": 13,
   "id": "bizarre-humidity",
   "metadata": {},
   "outputs": [],
   "source": [
    "embedding_lstm = lstm.layers[0]\n",
    "weights_lstm = embedding_lstm.get_weights()[0]\n",
    "\n",
    "embedding_cnn = cnn.layers[0]\n",
    "weights_cnn = embedding_cnn.get_weights()[0]\n",
    "\n",
    "embedding_simple = simple.layers[0]\n",
    "weights_simple = embedding_simple.get_weights()[0]\n",
    "\n",
    "word2vec_file_path_lstm = os.getenv('HOME')+'/aiffel/sentiment_classification/word2vec_lstm.txt'\n",
    "f = open(word2vec_file_path_lstm, 'w')\n",
    "f.write('{} {}\\n'.format(vocab_size-4, word_vector_dim))\n",
    "\n",
    "vectors = lstm.get_weights()[0]\n",
    "for i in range(4,vocab_size):\n",
    "    f.write('{} {}\\n'.format(index_to_word[i], ' '.join(map(str, list(vectors[i, :])))))\n",
    "f.close()\n",
    "\n",
    "word2vec_file_path_cnn = os.getenv('HOME')+'/aiffel/sentiment_classification/word2vec_cnn.txt'\n",
    "f = open(word2vec_file_path_cnn, 'w')\n",
    "f.write('{} {}\\n'.format(vocab_size-4, word_vector_dim))\n",
    "\n",
    "vectors = cnn.get_weights()[0]\n",
    "for i in range(4,vocab_size):\n",
    "    f.write('{} {}\\n'.format(index_to_word[i], ' '.join(map(str, list(vectors[i, :])))))\n",
    "f.close()\n",
    "\n",
    "word2vec_file_path_simple = os.getenv('HOME')+'/aiffel/sentiment_classification/word2vec_simple.txt'\n",
    "f = open(word2vec_file_path_simple, 'w')\n",
    "f.write('{} {}\\n'.format(vocab_size-4, word_vector_dim))\n",
    "\n",
    "vectors = simple.get_weights()[0]\n",
    "for i in range(4,vocab_size):\n",
    "    f.write('{} {}\\n'.format(index_to_word[i], ' '.join(map(str, list(vectors[i, :])))))\n",
    "f.close()\n",
    "\n",
    "word_vectors_lstm = Word2VecKeyedVectors.load_word2vec_format(word2vec_file_path_lstm, binary=False)\n",
    "word_vectors_cnn = Word2VecKeyedVectors.load_word2vec_format(word2vec_file_path_cnn, binary=False)\n",
    "word_vectors_simple = Word2VecKeyedVectors.load_word2vec_format(word2vec_file_path_simple, binary=False)"
   ]
  },
  {
   "cell_type": "markdown",
   "id": "crucial-visit",
   "metadata": {},
   "source": [
    "## 8) 한국어 Word2Vec 임베딩 활용하여 성능개선\n",
    "한국어 Word2Vec은 다음 경로에서 구할 수 있습니다.\n",
    "\n",
    "Pre-trained word vectors of 30+ languages"
   ]
  },
  {
   "cell_type": "markdown",
   "id": "early-airport",
   "metadata": {},
   "source": [
    "## 설치오류로 pip 버전 3.8.3으로 다운그레이드( 후 재시작 필요 !! )"
   ]
  },
  {
   "cell_type": "code",
   "execution_count": 14,
   "id": "eastern-increase",
   "metadata": {
    "scrolled": true
   },
   "outputs": [
    {
     "name": "stdout",
     "output_type": "stream",
     "text": [
      "Requirement already satisfied: gensim==3.8.3 in /opt/conda/lib/python3.7/site-packages (3.8.3)\n",
      "Requirement already satisfied: scipy>=0.18.1 in /opt/conda/lib/python3.7/site-packages (from gensim==3.8.3) (1.4.1)\n",
      "Requirement already satisfied: numpy>=1.11.3 in /opt/conda/lib/python3.7/site-packages (from gensim==3.8.3) (1.19.5)\n",
      "Requirement already satisfied: six>=1.5.0 in /opt/conda/lib/python3.7/site-packages (from gensim==3.8.3) (1.15.0)\n",
      "Requirement already satisfied: smart-open>=1.8.1 in /opt/conda/lib/python3.7/site-packages (from gensim==3.8.3) (4.1.2)\n",
      "\u001b[33mWARNING: You are using pip version 20.3.3; however, version 21.2.3 is available.\n",
      "You should consider upgrading via the '/opt/conda/bin/python -m pip install --upgrade pip' command.\u001b[0m\n",
      "Note: you may need to restart the kernel to use updated packages.\n"
     ]
    }
   ],
   "source": [
    "pip install --upgrade gensim==3.8.3"
   ]
  },
  {
   "cell_type": "code",
   "execution_count": 15,
   "id": "fuzzy-anaheim",
   "metadata": {
    "scrolled": false
   },
   "outputs": [
    {
     "name": "stdout",
     "output_type": "stream",
     "text": [
      "[('고양이', 0.7290452718734741), ('거위', 0.7185635566711426), ('토끼', 0.7056223154067993), ('멧돼지', 0.6950401067733765), ('엄마', 0.6934334635734558), ('난쟁이', 0.6806551218032837), ('한마리', 0.6770296096801758), ('아가씨', 0.6750352382659912), ('아빠', 0.6729634404182434), ('목걸이', 0.6512460708618164)]\n"
     ]
    },
    {
     "name": "stderr",
     "output_type": "stream",
     "text": [
      "/opt/conda/lib/python3.7/site-packages/ipykernel_launcher.py:9: DeprecationWarning: Call to deprecated `similar_by_word` (Method will be removed in 4.0.0, use self.wv.similar_by_word() instead).\n",
      "  if __name__ == '__main__':\n"
     ]
    }
   ],
   "source": [
    "# pip install --upgrade gensim==3.8.3\n",
    "\n",
    "from gensim.models import KeyedVectors\n",
    "\n",
    "word2vec_path = os.getenv('HOME')+'/aiffel/sentiment_classification/ko.bin'\n",
    "word2vec = Word2Vec.load(word2vec_path)\n",
    "\n",
    "# 강아지랑 비슷한 단어\n",
    "vector = word2vec.similar_by_word(\"강아지\")\n",
    "\n",
    "print(vector)\n"
   ]
  },
  {
   "cell_type": "markdown",
   "id": "crude-director",
   "metadata": {},
   "source": [
    "#### embedding_matrix에 Word2Vec 워드 벡터를 단어 하나씩 카피"
   ]
  },
  {
   "cell_type": "code",
   "execution_count": 16,
   "id": "indirect-directive",
   "metadata": {},
   "outputs": [],
   "source": [
    "word2vec = word2vec.wv # word2vec.wv대신 word2vec 사용하면 아래에서도 deprecated 경고 발생\n",
    "\n",
    "vocab_size_ko_vec = 10000\n",
    "word_vector_dim_ko_vec = 200\n",
    "\n",
    "embedding_matrix = np.random.rand(vocab_size_ko_vec, word_vector_dim_ko_vec)\n",
    "\n",
    "for i in range(4,vocab_size_ko_vec):\n",
    "    if index_to_word[i] in word2vec:\n",
    "        embedding_matrix[i] = word2vec[index_to_word[i]]"
   ]
  },
  {
   "cell_type": "markdown",
   "id": "victorian-start",
   "metadata": {},
   "source": [
    "#### 임베딩 적용 후 학습"
   ]
  },
  {
   "cell_type": "code",
   "execution_count": 17,
   "id": "photographic-bibliography",
   "metadata": {},
   "outputs": [
    {
     "name": "stdout",
     "output_type": "stream",
     "text": [
      "Model: \"sequential_3\"\n",
      "_________________________________________________________________\n",
      "Layer (type)                 Output Shape              Param #   \n",
      "=================================================================\n",
      "embedding_3 (Embedding)      (None, 41, 200)           2000000   \n",
      "_________________________________________________________________\n",
      "lstm_1 (LSTM)                (None, 128)               168448    \n",
      "_________________________________________________________________\n",
      "dense_6 (Dense)              (None, 128)               16512     \n",
      "_________________________________________________________________\n",
      "dense_7 (Dense)              (None, 1)                 129       \n",
      "=================================================================\n",
      "Total params: 2,185,089\n",
      "Trainable params: 2,185,089\n",
      "Non-trainable params: 0\n",
      "_________________________________________________________________\n",
      "Model: \"sequential_4\"\n",
      "_________________________________________________________________\n",
      "Layer (type)                 Output Shape              Param #   \n",
      "=================================================================\n",
      "embedding_4 (Embedding)      (None, 41, 200)           2000000   \n",
      "_________________________________________________________________\n",
      "dropout (Dropout)            (None, 41, 200)           0         \n",
      "_________________________________________________________________\n",
      "conv1d_2 (Conv1D)            (None, 35, 512)           717312    \n",
      "_________________________________________________________________\n",
      "max_pooling1d_1 (MaxPooling1 (None, 7, 512)            0         \n",
      "_________________________________________________________________\n",
      "conv1d_3 (Conv1D)            (None, 1, 512)            1835520   \n",
      "_________________________________________________________________\n",
      "global_max_pooling1d_1 (Glob (None, 512)               0         \n",
      "_________________________________________________________________\n",
      "dense_8 (Dense)              (None, 256)               131328    \n",
      "_________________________________________________________________\n",
      "dense_9 (Dense)              (None, 1)                 257       \n",
      "=================================================================\n",
      "Total params: 4,684,417\n",
      "Trainable params: 4,684,417\n",
      "Non-trainable params: 0\n",
      "_________________________________________________________________\n",
      "Model: \"sequential_5\"\n",
      "_________________________________________________________________\n",
      "Layer (type)                 Output Shape              Param #   \n",
      "=================================================================\n",
      "embedding_5 (Embedding)      (None, 41, 200)           2000000   \n",
      "_________________________________________________________________\n",
      "global_average_pooling1d_1 ( (None, 200)               0         \n",
      "_________________________________________________________________\n",
      "dense_10 (Dense)             (None, 128)               25728     \n",
      "_________________________________________________________________\n",
      "dropout_1 (Dropout)          (None, 128)               0         \n",
      "_________________________________________________________________\n",
      "dense_11 (Dense)             (None, 1)                 129       \n",
      "=================================================================\n",
      "Total params: 2,025,857\n",
      "Trainable params: 2,025,857\n",
      "Non-trainable params: 0\n",
      "_________________________________________________________________\n"
     ]
    }
   ],
   "source": [
    "vocab_size = 10000\n",
    "word_vector_dim = 200 #https://github.com/Kyubyong/wordvectors 참고. 한국어 word2vec는 벡터 사이즈가 200이다.\n",
    "\n",
    "# LSTM\n",
    "lstm = keras.Sequential()\n",
    "lstm.add(keras.layers.Embedding(vocab_size, word_vector_dim, embeddings_initializer=Constant(embedding_matrix),input_length=maxlen, trainable=True))\n",
    "lstm.add(keras.layers.LSTM(128))\n",
    "lstm.add(keras.layers.Dense(128, activation='relu'))\n",
    "lstm.add(keras.layers.Dense(1, activation='sigmoid'))\n",
    "lstm.summary()\n",
    "\n",
    "# CNN\n",
    "cnn = keras.Sequential()\n",
    "cnn.add(keras.layers.Embedding(vocab_size,  word_vector_dim,  embeddings_initializer=Constant(embedding_matrix), input_length=maxlen,  trainable=True))\n",
    "cnn.add(keras.layers.Dropout(0.5))\n",
    "cnn.add(keras.layers.Conv1D(512, 7, activation='relu'))\n",
    "cnn.add(keras.layers.MaxPooling1D(5))\n",
    "cnn.add(keras.layers.Conv1D(512, 7, activation='relu'))\n",
    "cnn.add(keras.layers.GlobalMaxPooling1D())\n",
    "cnn.add(keras.layers.Dense(256, activation='relu'))\n",
    "cnn.add(keras.layers.Dense(1, activation='sigmoid'))\n",
    "cnn.summary()\n",
    "\n",
    "# GlobalAveragePooling1D layer\n",
    "simple = keras.Sequential()\n",
    "simple.add(keras.layers.Embedding(vocab_size, word_vector_dim, embeddings_initializer=Constant(embedding_matrix),input_length=maxlen, trainable=True))\n",
    "simple.add(keras.layers.GlobalAveragePooling1D())\n",
    "simple.add(keras.layers.Dense(128, activation='relu'))\n",
    "simple.add(keras.layers.Dropout(0.1))\n",
    "simple.add(keras.layers.Dense(1, activation='sigmoid'))\n",
    "\n",
    "simple.summary()"
   ]
  },
  {
   "cell_type": "markdown",
   "id": "worldwide-possible",
   "metadata": {},
   "source": [
    "#### 베딩 활용하여 성능개선"
   ]
  },
  {
   "cell_type": "code",
   "execution_count": 18,
   "id": "democratic-constitutional",
   "metadata": {
    "scrolled": true
   },
   "outputs": [
    {
     "name": "stdout",
     "output_type": "stream",
     "text": [
      "Epoch 1/6\n",
      "247/247 [==============================] - 12s 43ms/step - loss: 0.5250 - accuracy: 0.7250 - val_loss: 0.3553 - val_accuracy: 0.8431\n",
      "Epoch 2/6\n",
      "247/247 [==============================] - 10s 40ms/step - loss: 0.3258 - accuracy: 0.8595 - val_loss: 0.3213 - val_accuracy: 0.8594\n",
      "Epoch 3/6\n",
      "247/247 [==============================] - 10s 40ms/step - loss: 0.2747 - accuracy: 0.8851 - val_loss: 0.3229 - val_accuracy: 0.8600\n",
      "Epoch 4/6\n",
      "247/247 [==============================] - 10s 40ms/step - loss: 0.2471 - accuracy: 0.8981 - val_loss: 0.3153 - val_accuracy: 0.8665\n",
      "Epoch 5/6\n",
      "247/247 [==============================] - 10s 40ms/step - loss: 0.2177 - accuracy: 0.9136 - val_loss: 0.3285 - val_accuracy: 0.8663\n",
      "Epoch 6/6\n",
      "247/247 [==============================] - 10s 40ms/step - loss: 0.1860 - accuracy: 0.9265 - val_loss: 0.3689 - val_accuracy: 0.8603\n",
      "Epoch 1/7\n",
      "247/247 [==============================] - 27s 99ms/step - loss: 0.8954 - accuracy: 0.5968 - val_loss: 0.4610 - val_accuracy: 0.7944\n",
      "Epoch 2/7\n",
      "247/247 [==============================] - 22s 88ms/step - loss: 0.4647 - accuracy: 0.7794 - val_loss: 0.3783 - val_accuracy: 0.8294\n",
      "Epoch 3/7\n",
      "247/247 [==============================] - 22s 88ms/step - loss: 0.3914 - accuracy: 0.8230 - val_loss: 0.3529 - val_accuracy: 0.8432\n",
      "Epoch 4/7\n",
      "247/247 [==============================] - 22s 88ms/step - loss: 0.3504 - accuracy: 0.8462 - val_loss: 0.3349 - val_accuracy: 0.8519\n",
      "Epoch 5/7\n",
      "247/247 [==============================] - 22s 89ms/step - loss: 0.3275 - accuracy: 0.8587 - val_loss: 0.3325 - val_accuracy: 0.8545\n",
      "Epoch 6/7\n",
      "247/247 [==============================] - 22s 89ms/step - loss: 0.3065 - accuracy: 0.8667 - val_loss: 0.3284 - val_accuracy: 0.8583\n",
      "Epoch 7/7\n",
      "247/247 [==============================] - 22s 89ms/step - loss: 0.2840 - accuracy: 0.8782 - val_loss: 0.3360 - val_accuracy: 0.8554\n",
      "Epoch 1/5\n",
      "247/247 [==============================] - 5s 19ms/step - loss: 0.6111 - accuracy: 0.6579 - val_loss: 0.4417 - val_accuracy: 0.8040\n",
      "Epoch 2/5\n",
      "247/247 [==============================] - 5s 19ms/step - loss: 0.4235 - accuracy: 0.8112 - val_loss: 0.3782 - val_accuracy: 0.8342\n",
      "Epoch 3/5\n",
      "247/247 [==============================] - 5s 19ms/step - loss: 0.3643 - accuracy: 0.8420 - val_loss: 0.3597 - val_accuracy: 0.8397\n",
      "Epoch 4/5\n",
      "247/247 [==============================] - 5s 19ms/step - loss: 0.3440 - accuracy: 0.8524 - val_loss: 0.3509 - val_accuracy: 0.8467\n",
      "Epoch 5/5\n",
      "247/247 [==============================] - 5s 19ms/step - loss: 0.3307 - accuracy: 0.8583 - val_loss: 0.3599 - val_accuracy: 0.8407\n"
     ]
    }
   ],
   "source": [
    "epochs = 6\n",
    "lstm.compile(optimizer='adam', loss='binary_crossentropy', metrics=['accuracy'])\n",
    "history_lstm = lstm.fit(partial_X_train, partial_y_train, epochs=epochs, batch_size=512, validation_data=(X_val, y_val),                    verbose=1)\n",
    "\n",
    "epochs = 7\n",
    "cnn.compile(optimizer='adam', loss='binary_crossentropy', metrics=['accuracy'])\n",
    "history_cnn = cnn.fit(partial_X_train, partial_y_train, epochs=epochs, batch_size=512, validation_data=(X_val, y_val), verbose=1)\n",
    "                    \n"
   ]
  },
  {
   "cell_type": "code",
   "execution_count": 20,
   "id": "opponent-level",
   "metadata": {},
   "outputs": [
    {
     "name": "stdout",
     "output_type": "stream",
     "text": [
      "Epoch 1/10\n",
      "247/247 [==============================] - 5s 20ms/step - loss: 0.3196 - accuracy: 0.8637 - val_loss: 0.3442 - val_accuracy: 0.8501\n",
      "Epoch 2/10\n",
      "247/247 [==============================] - 5s 19ms/step - loss: 0.3100 - accuracy: 0.8684 - val_loss: 0.3456 - val_accuracy: 0.8487\n",
      "Epoch 3/10\n",
      "247/247 [==============================] - 5s 19ms/step - loss: 0.3060 - accuracy: 0.8709 - val_loss: 0.3486 - val_accuracy: 0.8503\n",
      "Epoch 4/10\n",
      "247/247 [==============================] - 5s 19ms/step - loss: 0.3020 - accuracy: 0.8715 - val_loss: 0.3499 - val_accuracy: 0.8493\n",
      "Epoch 5/10\n",
      "247/247 [==============================] - 5s 19ms/step - loss: 0.2992 - accuracy: 0.8722 - val_loss: 0.3521 - val_accuracy: 0.8476\n",
      "Epoch 6/10\n",
      "247/247 [==============================] - 5s 19ms/step - loss: 0.2934 - accuracy: 0.8748 - val_loss: 0.3532 - val_accuracy: 0.8486\n",
      "Epoch 7/10\n",
      "247/247 [==============================] - 5s 19ms/step - loss: 0.2931 - accuracy: 0.8753 - val_loss: 0.3496 - val_accuracy: 0.8492\n",
      "Epoch 8/10\n",
      "247/247 [==============================] - 5s 19ms/step - loss: 0.2893 - accuracy: 0.8779 - val_loss: 0.3562 - val_accuracy: 0.8482\n",
      "Epoch 9/10\n",
      "247/247 [==============================] - 5s 19ms/step - loss: 0.2861 - accuracy: 0.8788 - val_loss: 0.3733 - val_accuracy: 0.8401\n",
      "Epoch 10/10\n",
      "247/247 [==============================] - 5s 19ms/step - loss: 0.2820 - accuracy: 0.8808 - val_loss: 0.3559 - val_accuracy: 0.8475\n"
     ]
    }
   ],
   "source": [
    "epochs = 10\n",
    "simple.compile(optimizer='adam', loss='binary_crossentropy',metrics=['accuracy'])\n",
    "history_simple = simple.fit(partial_X_train, partial_y_train, epochs=epochs, batch_size=512, validation_data=(X_val, y_val), verbose=1)"
   ]
  },
  {
   "cell_type": "code",
   "execution_count": 21,
   "id": "executive-surgeon",
   "metadata": {},
   "outputs": [
    {
     "name": "stdout",
     "output_type": "stream",
     "text": [
      "1537/1537 - 6s - loss: 0.3785 - accuracy: 0.8579\n",
      "[0.37850260734558105, 0.8578839302062988]\n",
      "1537/1537 - 6s - loss: 0.3431 - accuracy: 0.8513\n",
      "[0.3431154191493988, 0.8512521386146545]\n",
      "1537/1537 - 2s - loss: 0.3639 - accuracy: 0.8425\n",
      "[0.3638652265071869, 0.8424639701843262]\n"
     ]
    }
   ],
   "source": [
    "# LSTM\n",
    "results_lstm = lstm.evaluate(X_test, y_test, verbose=2)\n",
    "print(results_lstm)\n",
    "\n",
    "# CNN\n",
    "results_cnn = cnn.evaluate(X_test, y_test, verbose=2)\n",
    "print(results_cnn)\n",
    "\n",
    "# GlobalAveragePooling1D layer\n",
    "results_simple = simple.evaluate(X_test, y_test, verbose=2)\n",
    "print(results_simple)"
   ]
  },
  {
   "cell_type": "markdown",
   "id": "grave-algorithm",
   "metadata": {},
   "source": [
    "## 회고"
   ]
  },
  {
   "cell_type": "markdown",
   "id": "extraordinary-literacy",
   "metadata": {},
   "source": [
    "#### 1. 이번 프로젝트에서 어려웠던 점\n",
    "\n",
    "> **한국어 Word2Vec 임베딩 활용** 부분에서 설치 후, 로딩이 안되서 시간을 많이 소비함;;\n",
    "\n"
   ]
  },
  {
   "cell_type": "markdown",
   "id": "female-ending",
   "metadata": {},
   "source": [
    "2. 프로젝트를 진행하면서 알아낸 점 혹은 아직 모호한 점\n",
    "\n",
    ">알아낸 점 : python module은 버전을 참 많이 탄다는것을 느꼈음\n",
    "\n",
    "    \n",
    ">모호한 점 : 대략적인 개념은 알겠으나, 각 소스에 대한 내용 100%를 다 알지는 못 함\n",
    "\n"
   ]
  },
  {
   "cell_type": "markdown",
   "id": "through-presence",
   "metadata": {},
   "source": [
    "3. 루브릭 평가 지표를 맞추기 위해 시도한 것들.\n",
    "\n",
    "> 한국어 Word2Vec 임베딩 활용설치와 관련된 부분을 많이 검색함, 기존에 했던 분들의 모델을 거의 모방했음;; ㅠㅠ;\n",
    "\n",
    "> epochs 횟수를 너무 적게 주어, 루브릭 기준에 맞출때까지 epochs 횟수를 더 높임\n"
   ]
  },
  {
   "cell_type": "markdown",
   "id": "nervous-practitioner",
   "metadata": {},
   "source": [
    "#### 4. 만약에 루브릭 평가 관련 지표를 달성 하지 못했을 때, 이유에 관한 추정.\n",
    "\n",
    "> Exploration에 대해서 충분한 시간을 갖고 이해하거나, 기존에 이해 못했던 부분들이 영향을 끼침"
   ]
  },
  {
   "cell_type": "markdown",
   "id": "altered-fiction",
   "metadata": {},
   "source": [
    "#### 5. 자기 다짐\n",
    "\n",
    "> 오류가 발생하면 주변에 먼저 동일한 현상이 있는지를 물어봐야 겠음"
   ]
  }
 ],
 "metadata": {
  "kernelspec": {
   "display_name": "Python 3",
   "language": "python",
   "name": "python3"
  },
  "language_info": {
   "codemirror_mode": {
    "name": "ipython",
    "version": 3
   },
   "file_extension": ".py",
   "mimetype": "text/x-python",
   "name": "python",
   "nbconvert_exporter": "python",
   "pygments_lexer": "ipython3",
   "version": "3.7.9"
  }
 },
 "nbformat": 4,
 "nbformat_minor": 5
}
